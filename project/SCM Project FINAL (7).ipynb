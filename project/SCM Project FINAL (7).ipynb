{
 "cells": [
  {
   "cell_type": "markdown",
   "id": "f7b2e6fd",
   "metadata": {},
   "source": [
    "# The datas for tabel 1---> for masses and tabel 2---> for distance and time"
   ]
  },
  {
   "cell_type": "code",
   "execution_count": 1,
   "id": "16ed5e12",
   "metadata": {},
   "outputs": [],
   "source": [
    "import pandas as pd # library for defining data and tabels\n",
    "data1= pd.DataFrame({ \"M(gm)\":[168.28] ,\"m(gm)\":[50]})\n",
    "data = pd.DataFrame( {\"X(cm)\":[20,40,60,80,100,120], \n",
    "                      \"t1(msec)\":[214,416.63,572.65,755.37,959.59,1076],\n",
    "                      \"t2(msec)\":[173,436.8,542.16,726.26,994.79,971.33],\n",
    "                      \"t(msec)\":[193.5,426.72,557.41,740.82,977.19,1023.67],\n",
    "                      \"t(sec)\":[0.19,0.43,0.56,0.74,0.98,1.02],\n",
    "                      't^2(sec^2)':[0.04,0.18,0.31,0.55,0.96,1.04]})\n",
    "table1=pd.DataFrame(data1)\n",
    "table=pd.DataFrame(data)"
   ]
  },
  {
   "cell_type": "markdown",
   "id": "4fb67184",
   "metadata": {},
   "source": [
    "# These are the codes that defined the tables codes ( indix, headers  and cell )"
   ]
  },
  {
   "cell_type": "code",
   "execution_count": 2,
   "id": "af2759db",
   "metadata": {},
   "outputs": [],
   "source": [
    "# NEW CODE \"SELF LEARNING\"\n",
    "\n",
    "cell_hover = {\n",
    "    \"selector\": \"td:hover\",\n",
    "    \"props\": [(\"background-color\", \"#FFFFE0\")] #FFFFE0 for lightyellow\n",
    "}\n",
    "index_names = {\n",
    "    \"selector\": \".index_name\",\n",
    "    \"props\": \"font-style: italic; color: darkgrey; font-weight:normal;\"\n",
    "}\n",
    "headers = {\n",
    "    \"selector\": \"th:not(.index_name)\",\n",
    "    \"props\": \"background-color: #CD96CD; color: black; text-align: center\" \n",
    "    #CD96CD is the color of the purpel background head and index \n",
    "}\n",
    "properties = {\"border\": \"2px solid black\", # New code for table border in black and text in center\n",
    "              \"width\": \"65px\", \n",
    "              \"text-align\": \"center\"}"
   ]
  },
  {
   "cell_type": "code",
   "execution_count": 3,
   "id": "3e0dbbbd",
   "metadata": {},
   "outputs": [
    {
     "data": {
      "text/html": [
       "<style type=\"text/css\">\n",
       "#T_4a5a4 td:hover {\n",
       "  background-color: #FFFFE0;\n",
       "}\n",
       "#T_4a5a4 .index_name {\n",
       "  font-style: italic;\n",
       "  color: darkgrey;\n",
       "  font-weight: normal;\n",
       "}\n",
       "#T_4a5a4 th:not(.index_name) {\n",
       "  background-color: #CD96CD;\n",
       "  color: black;\n",
       "  text-align: center;\n",
       "}\n",
       "#T_4a5a4_row0_col0, #T_4a5a4_row0_col1 {\n",
       "  border: 2px solid black;\n",
       "  color: gray;\n",
       "  text-align: center;\n",
       "}\n",
       "</style>\n",
       "<table id=\"T_4a5a4\">\n",
       "  <thead>\n",
       "    <tr>\n",
       "      <th class=\"blank level0\" >&nbsp;</th>\n",
       "      <th id=\"T_4a5a4_level0_col0\" class=\"col_heading level0 col0\" >M(gm)</th>\n",
       "      <th id=\"T_4a5a4_level0_col1\" class=\"col_heading level0 col1\" >m(gm)</th>\n",
       "    </tr>\n",
       "  </thead>\n",
       "  <tbody>\n",
       "    <tr>\n",
       "      <th id=\"T_4a5a4_level0_row0\" class=\"row_heading level0 row0\" >0</th>\n",
       "      <td id=\"T_4a5a4_row0_col0\" class=\"data row0 col0\" >168.28</td>\n",
       "      <td id=\"T_4a5a4_row0_col1\" class=\"data row0 col1\" >50</td>\n",
       "    </tr>\n",
       "  </tbody>\n",
       "</table>\n"
      ],
      "text/plain": [
       "<pandas.io.formats.style.Styler at 0x256ae790e80>"
      ]
     },
     "execution_count": 3,
     "metadata": {},
     "output_type": "execute_result"
    }
   ],
   "source": [
    "\n",
    "data1.style.format(precision=2).set_table_styles([cell_hover, index_names, headers]).set_properties(**{'border':'2px solid black','color': 'gray', \"text-align\": \"center\"})"
   ]
  },
  {
   "cell_type": "code",
   "execution_count": 4,
   "id": "a5c710cf",
   "metadata": {},
   "outputs": [
    {
     "data": {
      "text/html": [
       "<style type=\"text/css\">\n",
       "#T_cd9a5 td:hover {\n",
       "  background-color: #FFFFE0;\n",
       "}\n",
       "#T_cd9a5 .index_name {\n",
       "  font-style: italic;\n",
       "  color: darkgrey;\n",
       "  font-weight: normal;\n",
       "}\n",
       "#T_cd9a5 th:not(.index_name) {\n",
       "  background-color: #CD96CD;\n",
       "  color: black;\n",
       "  text-align: center;\n",
       "}\n",
       "#T_cd9a5_row0_col0, #T_cd9a5_row0_col1, #T_cd9a5_row0_col2, #T_cd9a5_row0_col3, #T_cd9a5_row0_col4, #T_cd9a5_row0_col5, #T_cd9a5_row1_col0, #T_cd9a5_row1_col1, #T_cd9a5_row1_col2, #T_cd9a5_row1_col3, #T_cd9a5_row1_col4, #T_cd9a5_row1_col5, #T_cd9a5_row2_col0, #T_cd9a5_row2_col1, #T_cd9a5_row2_col2, #T_cd9a5_row2_col3, #T_cd9a5_row2_col4, #T_cd9a5_row2_col5, #T_cd9a5_row3_col0, #T_cd9a5_row3_col1, #T_cd9a5_row3_col2, #T_cd9a5_row3_col3, #T_cd9a5_row3_col4, #T_cd9a5_row3_col5, #T_cd9a5_row4_col0, #T_cd9a5_row4_col1, #T_cd9a5_row4_col2, #T_cd9a5_row4_col3, #T_cd9a5_row4_col4, #T_cd9a5_row4_col5, #T_cd9a5_row5_col0, #T_cd9a5_row5_col1, #T_cd9a5_row5_col2, #T_cd9a5_row5_col3, #T_cd9a5_row5_col4, #T_cd9a5_row5_col5 {\n",
       "  border: 2px solid black;\n",
       "  color: gray;\n",
       "  text-align: center;\n",
       "}\n",
       "</style>\n",
       "<table id=\"T_cd9a5\">\n",
       "  <thead>\n",
       "    <tr>\n",
       "      <th class=\"blank level0\" >&nbsp;</th>\n",
       "      <th id=\"T_cd9a5_level0_col0\" class=\"col_heading level0 col0\" >X(cm)</th>\n",
       "      <th id=\"T_cd9a5_level0_col1\" class=\"col_heading level0 col1\" >t1(msec)</th>\n",
       "      <th id=\"T_cd9a5_level0_col2\" class=\"col_heading level0 col2\" >t2(msec)</th>\n",
       "      <th id=\"T_cd9a5_level0_col3\" class=\"col_heading level0 col3\" >t(msec)</th>\n",
       "      <th id=\"T_cd9a5_level0_col4\" class=\"col_heading level0 col4\" >t(sec)</th>\n",
       "      <th id=\"T_cd9a5_level0_col5\" class=\"col_heading level0 col5\" >t^2(sec^2)</th>\n",
       "    </tr>\n",
       "  </thead>\n",
       "  <tbody>\n",
       "    <tr>\n",
       "      <th id=\"T_cd9a5_level0_row0\" class=\"row_heading level0 row0\" >0</th>\n",
       "      <td id=\"T_cd9a5_row0_col0\" class=\"data row0 col0\" >20</td>\n",
       "      <td id=\"T_cd9a5_row0_col1\" class=\"data row0 col1\" >214.00</td>\n",
       "      <td id=\"T_cd9a5_row0_col2\" class=\"data row0 col2\" >173.00</td>\n",
       "      <td id=\"T_cd9a5_row0_col3\" class=\"data row0 col3\" >193.50</td>\n",
       "      <td id=\"T_cd9a5_row0_col4\" class=\"data row0 col4\" >0.19</td>\n",
       "      <td id=\"T_cd9a5_row0_col5\" class=\"data row0 col5\" >0.04</td>\n",
       "    </tr>\n",
       "    <tr>\n",
       "      <th id=\"T_cd9a5_level0_row1\" class=\"row_heading level0 row1\" >1</th>\n",
       "      <td id=\"T_cd9a5_row1_col0\" class=\"data row1 col0\" >40</td>\n",
       "      <td id=\"T_cd9a5_row1_col1\" class=\"data row1 col1\" >416.63</td>\n",
       "      <td id=\"T_cd9a5_row1_col2\" class=\"data row1 col2\" >436.80</td>\n",
       "      <td id=\"T_cd9a5_row1_col3\" class=\"data row1 col3\" >426.72</td>\n",
       "      <td id=\"T_cd9a5_row1_col4\" class=\"data row1 col4\" >0.43</td>\n",
       "      <td id=\"T_cd9a5_row1_col5\" class=\"data row1 col5\" >0.18</td>\n",
       "    </tr>\n",
       "    <tr>\n",
       "      <th id=\"T_cd9a5_level0_row2\" class=\"row_heading level0 row2\" >2</th>\n",
       "      <td id=\"T_cd9a5_row2_col0\" class=\"data row2 col0\" >60</td>\n",
       "      <td id=\"T_cd9a5_row2_col1\" class=\"data row2 col1\" >572.65</td>\n",
       "      <td id=\"T_cd9a5_row2_col2\" class=\"data row2 col2\" >542.16</td>\n",
       "      <td id=\"T_cd9a5_row2_col3\" class=\"data row2 col3\" >557.41</td>\n",
       "      <td id=\"T_cd9a5_row2_col4\" class=\"data row2 col4\" >0.56</td>\n",
       "      <td id=\"T_cd9a5_row2_col5\" class=\"data row2 col5\" >0.31</td>\n",
       "    </tr>\n",
       "    <tr>\n",
       "      <th id=\"T_cd9a5_level0_row3\" class=\"row_heading level0 row3\" >3</th>\n",
       "      <td id=\"T_cd9a5_row3_col0\" class=\"data row3 col0\" >80</td>\n",
       "      <td id=\"T_cd9a5_row3_col1\" class=\"data row3 col1\" >755.37</td>\n",
       "      <td id=\"T_cd9a5_row3_col2\" class=\"data row3 col2\" >726.26</td>\n",
       "      <td id=\"T_cd9a5_row3_col3\" class=\"data row3 col3\" >740.82</td>\n",
       "      <td id=\"T_cd9a5_row3_col4\" class=\"data row3 col4\" >0.74</td>\n",
       "      <td id=\"T_cd9a5_row3_col5\" class=\"data row3 col5\" >0.55</td>\n",
       "    </tr>\n",
       "    <tr>\n",
       "      <th id=\"T_cd9a5_level0_row4\" class=\"row_heading level0 row4\" >4</th>\n",
       "      <td id=\"T_cd9a5_row4_col0\" class=\"data row4 col0\" >100</td>\n",
       "      <td id=\"T_cd9a5_row4_col1\" class=\"data row4 col1\" >959.59</td>\n",
       "      <td id=\"T_cd9a5_row4_col2\" class=\"data row4 col2\" >994.79</td>\n",
       "      <td id=\"T_cd9a5_row4_col3\" class=\"data row4 col3\" >977.19</td>\n",
       "      <td id=\"T_cd9a5_row4_col4\" class=\"data row4 col4\" >0.98</td>\n",
       "      <td id=\"T_cd9a5_row4_col5\" class=\"data row4 col5\" >0.96</td>\n",
       "    </tr>\n",
       "    <tr>\n",
       "      <th id=\"T_cd9a5_level0_row5\" class=\"row_heading level0 row5\" >5</th>\n",
       "      <td id=\"T_cd9a5_row5_col0\" class=\"data row5 col0\" >120</td>\n",
       "      <td id=\"T_cd9a5_row5_col1\" class=\"data row5 col1\" >1076.00</td>\n",
       "      <td id=\"T_cd9a5_row5_col2\" class=\"data row5 col2\" >971.33</td>\n",
       "      <td id=\"T_cd9a5_row5_col3\" class=\"data row5 col3\" >1023.67</td>\n",
       "      <td id=\"T_cd9a5_row5_col4\" class=\"data row5 col4\" >1.02</td>\n",
       "      <td id=\"T_cd9a5_row5_col5\" class=\"data row5 col5\" >1.04</td>\n",
       "    </tr>\n",
       "  </tbody>\n",
       "</table>\n"
      ],
      "text/plain": [
       "<pandas.io.formats.style.Styler at 0x256b19ac6a0>"
      ]
     },
     "execution_count": 4,
     "metadata": {},
     "output_type": "execute_result"
    }
   ],
   "source": [
    "# NEW CODE \"SELF LEARNING\"\n",
    "headers = {\n",
    "    \"selector\": \"th:not(.index_name)\",\n",
    "    \"props\": \"background-color: #CD96CD; color: black; text-align: center\" \n",
    "    #CD96CD is the color of the purbel background head and index \n",
    "}\n",
    "properties = {\"border\": \"2px solid black\", # new code for table border in black and text in center\n",
    "              \"width\": \"65px\", \n",
    "              \"text-align\": \"center\"}\n",
    "\n",
    "data.style.format(precision=2).set_table_styles([cell_hover, index_names, headers]).set_properties(**{'border':'2px solid black','color': 'gray',\"text-align\": \"center\"})"
   ]
  },
  {
   "cell_type": "markdown",
   "id": "f7ab98af",
   "metadata": {},
   "source": [
    "# Using matplotlib.pyplot lib to plot a graph"
   ]
  },
  {
   "cell_type": "code",
   "execution_count": 5,
   "id": "9a4df157",
   "metadata": {},
   "outputs": [
    {
     "data": {
      "image/png": "[encoded data removed]",
      "text/plain": [
       "<Figure size 1400x600 with 1 Axes>"
      ]
     },
     "metadata": {},
     "output_type": "display_data"
    }
   ],
   "source": [
    "import matplotlib.pyplot as plt # library for coding grapgh\n",
    "import seaborn as sns           # library for making the bg of graph blue squares \n",
    "plt.rc('font', family='serif') # NEW CODE \"SELF LEARNING\"\n",
    "plt.figure(figsize=(14,6)) #must be at first to exceed right    \n",
    "x=table['t^2(sec^2)']\n",
    "y=table[\"X(cm)\"]\n",
    "plt.grid(True)\n",
    "plt.plot(x,y,color='k')\n",
    "sns.set()\n",
    "plt.xlabel('$t^2(sec^2)$',fontsize=12, color='m')     # NEW CODE \"SELF LEARNING\"\n",
    "plt.ylabel(\"$X(cm)$\",fontsize=12 , color='m')         # NEW CODE \"SELF LEARNING\"\n",
    "plt.title(\"Relationship between $x (cm)$ versus $t^2(s^2)$\",fontsize=18 , color='m')  # NEW CODE \"SELF LEARNING\"\n",
    "\n",
    "plt.show()"
   ]
  },
  {
   "cell_type": "markdown",
   "id": "7cbcb806",
   "metadata": {},
   "source": [
    "# 1-Finding the slop from the graph"
   ]
  },
  {
   "cell_type": "code",
   "execution_count": 6,
   "id": "8313d618",
   "metadata": {},
   "outputs": [
    {
     "name": "stdout",
     "output_type": "stream",
     "text": [
      "slop= 88.68 cm/s^2\n"
     ]
    }
   ],
   "source": [
    "import numpy as np\n",
    "slop=np.polyfit(x,y,1)\n",
    "print(\"slop=\", slop[0].round(2),\"cm/s^2\")"
   ]
  },
  {
   "cell_type": "code",
   "execution_count": 7,
   "id": "0aebab55",
   "metadata": {},
   "outputs": [],
   "source": [
    "a_exp=2*slop"
   ]
  },
  {
   "cell_type": "markdown",
   "id": "a3a5d361",
   "metadata": {},
   "source": [
    "# 2-Finding a expermintal from the slop"
   ]
  },
  {
   "cell_type": "code",
   "execution_count": 8,
   "id": "ad2dabf7",
   "metadata": {},
   "outputs": [
    {
     "name": "stdout",
     "output_type": "stream",
     "text": [
      "a_exp = 177.37 cm/s^2\n"
     ]
    }
   ],
   "source": [
    "print(\"a_exp =\",a_exp[0].round(2),\"cm/s^2\")"
   ]
  },
  {
   "cell_type": "code",
   "execution_count": 9,
   "id": "b4508371",
   "metadata": {},
   "outputs": [
    {
     "data": {
      "text/latex": [
       "$\\displaystyle \\frac{g m}{M + m}$"
      ],
      "text/plain": [
       "g*m/(M + m)"
      ]
     },
     "execution_count": 9,
     "metadata": {},
     "output_type": "execute_result"
    }
   ],
   "source": [
    "#using sympy for symbolic computation to write the expertion of the formula \n",
    "from sympy import symbols\n",
    "M,m,g = symbols(\"M m g\")\n",
    "expr = (m*g)/(M + m)\n",
    "expr"
   ]
  },
  {
   "cell_type": "markdown",
   "id": "bf7ba96b",
   "metadata": {},
   "source": [
    "# 3- Finding a therotical"
   ]
  },
  {
   "cell_type": "code",
   "execution_count": 10,
   "id": "ad2e7d74",
   "metadata": {},
   "outputs": [
    {
     "name": "stdout",
     "output_type": "stream",
     "text": [
      "a_th = 224.48 cm/s^2\n"
     ]
    }
   ],
   "source": [
    "#the calculate of the theoretical acceleration ath vlue \n",
    "M = 168.28\n",
    "m = 50\n",
    "g = 980\n",
    "ath = (m*g)/(M + m)\n",
    "print(\"a_th =\", round(ath,2), 'cm/s^2')"
   ]
  },
  {
   "cell_type": "code",
   "execution_count": 11,
   "id": "0cb497f1",
   "metadata": {},
   "outputs": [
    {
     "data": {
      "text/latex": [
       "$\\displaystyle 100 \\left|{\\frac{a_{exp} - a_{th}}{a_{th}}}\\right|$"
      ],
      "text/plain": [
       "100*Abs((a_exp - a_th)/a_th)"
      ]
     },
     "execution_count": 11,
     "metadata": {},
     "output_type": "execute_result"
    }
   ],
   "source": [
    "#using sympy for symbolic computation to write the expertion of the formula \n",
    "a_th ,a_exp = symbols(\"a_th a_exp\")\n",
    "expr = abs(((a_th - a_exp)/a_th )*100)\n",
    "expr\n"
   ]
  },
  {
   "cell_type": "markdown",
   "id": "c4c33c9a",
   "metadata": {},
   "source": [
    "# 4- Finding the expermintal erro"
   ]
  },
  {
   "cell_type": "code",
   "execution_count": 12,
   "id": "cd975094",
   "metadata": {},
   "outputs": [
    {
     "name": "stdout",
     "output_type": "stream",
     "text": [
      "P.E =  21.0 %\n"
     ]
    }
   ],
   "source": [
    "#the calculate of the experimental Error\n",
    "aexp=177.37\n",
    "pe = ( (ath- aexp) /ath )*100\n",
    "print('P.E = ',round(pe,1),'%')\n"
   ]
  },
  {
   "cell_type": "code",
   "execution_count": null,
   "id": "50b1512f",
   "metadata": {},
   "outputs": [],
   "source": []
  },
  {
   "cell_type": "code",
   "execution_count": null,
   "id": "df700ab7",
   "metadata": {},
   "outputs": [],
   "source": []
  }
 ],
 "metadata": {
  "kernelspec": {
   "display_name": "Python 3 (ipykernel)",
   "language": "python",
   "name": "python3"
  },
  "language_info": {
   "codemirror_mode": {
    "name": "ipython",
    "version": 3
   },
   "file_extension": ".py",
   "mimetype": "text/x-python",
   "name": "python",
   "nbconvert_exporter": "python",
   "pygments_lexer": "ipython3",
   "version": "3.9.13"
  }
 },
 "nbformat": 4,
 "nbformat_minor": 5
}
